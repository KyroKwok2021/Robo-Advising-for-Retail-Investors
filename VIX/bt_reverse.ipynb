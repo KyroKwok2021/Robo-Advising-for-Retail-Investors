{
 "cells": [
  {
   "cell_type": "markdown",
   "metadata": {},
   "source": [
    "# Import"
   ]
  },
  {
   "cell_type": "code",
   "execution_count": 1,
   "metadata": {},
   "outputs": [
    {
     "name": "stderr",
     "output_type": "stream",
     "text": [
      "/Users/kyro_m3pro/Desktop/Backtesting/.venv/lib/python3.9/site-packages/urllib3/__init__.py:34: NotOpenSSLWarning: urllib3 v2 only supports OpenSSL 1.1.1+, currently the 'ssl' module is compiled with 'LibreSSL 2.8.3'. See: https://github.com/urllib3/urllib3/issues/3020\n",
      "  warnings.warn(\n"
     ]
    }
   ],
   "source": [
    "import pandas as pd\n",
    "import numpy as np\n",
    "import matplotlib.pyplot as plt\n",
    "import matplotlib.gridspec as gridspec\n",
    "import seaborn as sns\n",
    "sns.set_style(\"whitegrid\")\n",
    "import yfinance as yf\n",
    "import warnings\n",
    "warnings.filterwarnings(\"ignore\", category=RuntimeWarning)\n",
    "\n",
    "def d(*obj):\n",
    "    for o in obj:\n",
    "        display(o)\n",
    "\n",
    "def p(*obj):\n",
    "    for o in obj:\n",
    "        print(o)\n",
    "\n",
    "def _np(ls):\n",
    "    return np.array(ls)\n",
    "\n",
    "def r(f, unit=3):\n",
    "    return round(f, unit)"
   ]
  },
  {
   "cell_type": "markdown",
   "metadata": {},
   "source": [
    "# Get Data"
   ]
  },
  {
   "cell_type": "code",
   "execution_count": 2,
   "metadata": {},
   "outputs": [],
   "source": [
    "def str_to_float(x:str):\n",
    "    if type(x) == str:\n",
    "        return float(x.replace(',' ,''))\n",
    "    else:\n",
    "        return x\n",
    "    \n",
    "vixf = pd.read_csv('Data/VIXF.csv').set_index('Date')[::-1]\n",
    "vixf.index = pd.to_datetime(pd.to_datetime(vixf.index).strftime('%Y-%m-%d'))\n",
    "\n",
    "cols_to_convert = [\"Open\", \"High\", \"Low\", \"Price\"]\n",
    "for col in cols_to_convert:\n",
    "    vixf[col] = vixf[col].apply(str_to_float)"
   ]
  },
  {
   "cell_type": "code",
   "execution_count": 3,
   "metadata": {},
   "outputs": [],
   "source": [
    "spx = pd.read_csv('Data/SPX.csv', index_col='Date')\n",
    "spx.index = pd.to_datetime(spx.index)\n",
    "\n",
    "vix = pd.read_csv('Data/VIX.csv', index_col='Date')\n",
    "vix.index = pd.to_datetime(vix.index)"
   ]
  },
  {
   "cell_type": "code",
   "execution_count": 4,
   "metadata": {},
   "outputs": [],
   "source": [
    "df = pd.concat([spx['Adj Close'].rename('SPX'),\n",
    "                vix['Adj Close'].rename('VIX'),\n",
    "                vixf['Price'].rename('VIXF')], axis=1)\n",
    "df = df.dropna()\n",
    "spread = df['VIXF'] - df['VIX']"
   ]
  },
  {
   "cell_type": "markdown",
   "metadata": {},
   "source": [
    "# Transform"
   ]
  },
  {
   "cell_type": "code",
   "execution_count": 5,
   "metadata": {},
   "outputs": [],
   "source": [
    "def smoothed_rolling_z(raw, window_sma: int, window_z: int):\n",
    "    smoothed = raw.rolling(window_sma).mean()\n",
    "    rolling_z = (smoothed - smoothed.rolling(window_z).mean()) / smoothed.rolling(window_z).std()\n",
    "    return rolling_z"
   ]
  },
  {
   "cell_type": "code",
   "execution_count": 6,
   "metadata": {},
   "outputs": [],
   "source": [
    "def calc_future_expected_return(_return, n):\n",
    "    return _return[::-1].rolling(n).mean()[::-1].shift(-1)"
   ]
  },
  {
   "cell_type": "markdown",
   "metadata": {},
   "source": [
    "# Optimization"
   ]
  },
  {
   "cell_type": "code",
   "execution_count": 7,
   "metadata": {},
   "outputs": [
    {
     "ename": "ModuleNotFoundError",
     "evalue": "No module named 'visualization'",
     "output_type": "error",
     "traceback": [
      "\u001b[0;31m---------------------------------------------------------------------------\u001b[0m",
      "\u001b[0;31mModuleNotFoundError\u001b[0m                       Traceback (most recent call last)",
      "Cell \u001b[0;32mIn[7], line 3\u001b[0m\n\u001b[1;32m      1\u001b[0m \u001b[38;5;28;01mimport\u001b[39;00m \u001b[38;5;21;01msys\u001b[39;00m\n\u001b[1;32m      2\u001b[0m sys\u001b[38;5;241m.\u001b[39mpath\u001b[38;5;241m.\u001b[39mappend(\u001b[38;5;124m'\u001b[39m\u001b[38;5;124m../../../../qwok/\u001b[39m\u001b[38;5;124m'\u001b[39m)\n\u001b[0;32m----> 3\u001b[0m \u001b[38;5;28;01mfrom\u001b[39;00m \u001b[38;5;21;01mvisualization\u001b[39;00m \u001b[38;5;28;01mimport\u001b[39;00m Visualization \u001b[38;5;28;01mas\u001b[39;00m Vis\n\u001b[1;32m      4\u001b[0m \u001b[38;5;28;01mfrom\u001b[39;00m \u001b[38;5;21;01msignal_oscillator\u001b[39;00m \u001b[38;5;28;01mimport\u001b[39;00m Price_Oscillator_Signal\n",
      "\u001b[0;31mModuleNotFoundError\u001b[0m: No module named 'visualization'"
     ]
    }
   ],
   "source": [
    "import sys\n",
    "sys.path.append('../../../../qwok/')\n",
    "from visualization import Visualization as Vis\n",
    "from signal_oscillator import Price_Oscillator_Signal"
   ]
  },
  {
   "cell_type": "code",
   "execution_count": null,
   "metadata": {},
   "outputs": [],
   "source": [
    "reverse_res_arr = []\n",
    "spx_return = df['SPX'].pct_change()\n",
    "\n",
    "for window_sma in range(1, 50, 5):\n",
    "    print(window_sma, end=\" \")\n",
    "    for window_z in range(20, 50, 5):\n",
    "        rolling_z = smoothed_rolling_z(spread, window_sma, window_z)\n",
    "        for upper_threshold in np.arange(1.1, 2.8, 0.4):\n",
    "            for lower_threshold in np.arange(-1.1, -2.8, -0.4):\n",
    "                for holding_n in range(5, 31):\n",
    "                    obj_singals = Price_Oscillator_Signal(df['SPX'], rolling_z)\n",
    "                    signals_reverse = obj_singals.getSignals_OscillatorReverseThreshold(lower_threshold, upper_threshold)\n",
    "                    obj_bt = Vis(df['SPX'], signals_reverse, holding_n=holding_n)\n",
    "                    res_dict = {\n",
    "                            'obj_bt': obj_bt,\n",
    "                            'window_sma': window_sma,\n",
    "                            'window_z': window_z,\n",
    "                            'long_resverse_threshold': lower_threshold,\n",
    "                            'short_resverse_threshold': upper_threshold,\n",
    "                            'holding_n': holding_n,\n",
    "                    }\n",
    "                    for metrics, value in obj_bt.stat.items():\n",
    "                        res_dict[metrics] = value\n",
    "                    reverse_res_arr.append(res_dict)"
   ]
  },
  {
   "cell_type": "code",
   "execution_count": null,
   "metadata": {},
   "outputs": [],
   "source": [
    "reverse_bt = pd.DataFrame(reverse_res_arr)\n",
    "reverse_bt = reverse_bt.round(3)"
   ]
  },
  {
   "cell_type": "code",
   "execution_count": null,
   "metadata": {},
   "outputs": [],
   "source": [
    "if 1==0:\n",
    "    reverse_bt.to_excel('Result (Reverse) 5.0.xlsx')"
   ]
  },
  {
   "cell_type": "markdown",
   "metadata": {},
   "source": [
    "## Heatmap"
   ]
  },
  {
   "cell_type": "code",
   "execution_count": null,
   "metadata": {},
   "outputs": [],
   "source": [
    "ax = sns.heatmap(reverse_bt.pivot_table(index='window_sma' , columns='window_z', values='sharpe_ratio', aggfunc='mean'))\n",
    "plt.show()"
   ]
  },
  {
   "cell_type": "code",
   "execution_count": null,
   "metadata": {},
   "outputs": [],
   "source": [
    "ax = sns.heatmap(reverse_bt.pivot_table(columns=['short_resverse_threshold', 'long_resverse_threshold'], index='holding_n', values='sharpe_ratio', aggfunc='mean'))\n",
    "ax.set_xlabel('Upper Threshold - Lower Threshold')\n",
    "ax.set_ylabel('Holding N')\n",
    "plt.show()"
   ]
  },
  {
   "cell_type": "markdown",
   "metadata": {},
   "source": [
    "# Review"
   ]
  },
  {
   "cell_type": "code",
   "execution_count": null,
   "metadata": {},
   "outputs": [],
   "source": [
    "idx = 23207\n",
    "this_obj = reverse_bt.loc[idx, 'obj_bt']"
   ]
  },
  {
   "cell_type": "code",
   "execution_count": null,
   "metadata": {},
   "outputs": [],
   "source": [
    "this_obj.plot_general(config_position={'plot':False})"
   ]
  },
  {
   "cell_type": "code",
   "execution_count": null,
   "metadata": {},
   "outputs": [],
   "source": [
    "this_obj.plot_equityCurve()"
   ]
  },
  {
   "cell_type": "code",
   "execution_count": null,
   "metadata": {},
   "outputs": [],
   "source": [
    "this_obj.plot_signal(plot_extend_position=False)"
   ]
  }
 ],
 "metadata": {
  "kernelspec": {
   "display_name": "Python 3",
   "language": "python",
   "name": "python3"
  },
  "language_info": {
   "codemirror_mode": {
    "name": "ipython",
    "version": 3
   },
   "file_extension": ".py",
   "mimetype": "text/x-python",
   "name": "python",
   "nbconvert_exporter": "python",
   "pygments_lexer": "ipython3",
   "version": "3.9.6"
  }
 },
 "nbformat": 4,
 "nbformat_minor": 2
}
