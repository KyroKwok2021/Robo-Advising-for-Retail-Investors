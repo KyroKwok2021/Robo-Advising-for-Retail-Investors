{
 "cells": [
  {
   "cell_type": "markdown",
   "metadata": {},
   "source": [
    "# Import"
   ]
  },
  {
   "cell_type": "code",
   "execution_count": 1,
   "metadata": {},
   "outputs": [
    {
     "name": "stderr",
     "output_type": "stream",
     "text": [
      "/Users/kyro_m3pro/Desktop/Backtesting/.venv/lib/python3.9/site-packages/urllib3/__init__.py:34: NotOpenSSLWarning: urllib3 v2 only supports OpenSSL 1.1.1+, currently the 'ssl' module is compiled with 'LibreSSL 2.8.3'. See: https://github.com/urllib3/urllib3/issues/3020\n",
      "  warnings.warn(\n"
     ]
    }
   ],
   "source": [
    "import pandas as pd\n",
    "import numpy as np\n",
    "import matplotlib.pyplot as plt\n",
    "import matplotlib.gridspec as gridspec\n",
    "import seaborn as sns\n",
    "sns.set_style(\"whitegrid\")\n",
    "import yfinance as yf\n",
    "import warnings\n",
    "warnings.filterwarnings(\"ignore\", category=RuntimeWarning)\n",
    "\n",
    "def d(*obj):\n",
    "    for o in obj:\n",
    "        display(o)\n",
    "\n",
    "def p(*obj):\n",
    "    for o in obj:\n",
    "        print(o)\n",
    "\n",
    "def _np(ls):\n",
    "    return np.array(ls)\n",
    "\n",
    "def r(f, unit=3):\n",
    "    return round(f, unit)"
   ]
  },
  {
   "cell_type": "markdown",
   "metadata": {},
   "source": [
    "# Get Data"
   ]
  },
  {
   "cell_type": "code",
   "execution_count": 2,
   "metadata": {},
   "outputs": [],
   "source": [
    "def str_to_float(x:str):\n",
    "    if type(x) == str:\n",
    "        return float(x.replace(',' ,''))\n",
    "    else:\n",
    "        return x\n",
    "    \n",
    "vixf = pd.read_csv('Data/VIXF.csv').set_index('Date')[::-1]\n",
    "vixf.index = pd.to_datetime(pd.to_datetime(vixf.index).strftime('%Y-%m-%d'))\n",
    "\n",
    "cols_to_convert = [\"Open\", \"High\", \"Low\", \"Price\"]\n",
    "for col in cols_to_convert:\n",
    "    vixf[col] = vixf[col].apply(str_to_float)"
   ]
  },
  {
   "cell_type": "code",
   "execution_count": 3,
   "metadata": {},
   "outputs": [],
   "source": [
    "spx = pd.read_csv('Data/SPX.csv', index_col='Date')\n",
    "spx.index = pd.to_datetime(spx.index)\n",
    "\n",
    "vix = pd.read_csv('Data/VIX.csv', index_col='Date')\n",
    "vix.index = pd.to_datetime(vix.index)"
   ]
  },
  {
   "cell_type": "code",
   "execution_count": 4,
   "metadata": {},
   "outputs": [],
   "source": [
    "df = pd.concat([spx['Adj Close'].rename('SPX'),\n",
    "                vix['Adj Close'].rename('VIX'),\n",
    "                vixf['Price'].rename('VIXF')], axis=1)\n",
    "df = df.dropna()\n",
    "spread = df['VIXF'] - df['VIX']"
   ]
  },
  {
   "cell_type": "markdown",
   "metadata": {},
   "source": [
    "# Transform"
   ]
  },
  {
   "cell_type": "code",
   "execution_count": 5,
   "metadata": {},
   "outputs": [],
   "source": [
    "def smoothed_rolling_z(raw, window_sma: int, window_z: int):\n",
    "    smoothed = raw.rolling(window_sma).mean()\n",
    "    rolling_z = (smoothed - smoothed.rolling(window_z).mean()) / smoothed.rolling(window_z).std()\n",
    "    return rolling_z"
   ]
  },
  {
   "cell_type": "code",
   "execution_count": 6,
   "metadata": {},
   "outputs": [],
   "source": [
    "def calc_future_expected_return(_return, n):\n",
    "    return _return[::-1].rolling(n).mean()[::-1].shift(-1)"
   ]
  },
  {
   "cell_type": "markdown",
   "metadata": {},
   "source": [
    "# Optimization"
   ]
  },
  {
   "cell_type": "code",
   "execution_count": 7,
   "metadata": {},
   "outputs": [],
   "source": [
    "import sys\n",
    "sys.path.append('../../qwok/')\n",
    "from visualization import Visualization as Vis\n",
    "from signal_oscillator import Price_Oscillator_Signal"
   ]
  },
  {
   "cell_type": "code",
   "execution_count": 10,
   "metadata": {},
   "outputs": [
    {
     "name": "stdout",
     "output_type": "stream",
     "text": [
      "1 6 11 16 21 26 31 36 41 46 "
     ]
    }
   ],
   "source": [
    "minima_res_arr = []\n",
    "\n",
    "for window_sma in range(1, 50, 5):\n",
    "    print(window_sma, end=\" \")\n",
    "    for window_z in range(20, 50, 5):\n",
    "        rolling_z = smoothed_rolling_z(spread, window_sma, window_z)\n",
    "        for holding_n in range(5, 31):\n",
    "            for order in range(1, 6):\n",
    "                obj_singals = Price_Oscillator_Signal(df['SPX'], rolling_z)\n",
    "                signals_minima = obj_singals.getSignals_OscillatorExtrema(order)\n",
    "                \n",
    "                obj_bt = Vis(df['SPX'], signals_minima, holding_n=holding_n, ta=rolling_z)\n",
    "                res_dict = {\n",
    "                        'obj_bt': obj_bt,\n",
    "                        'window_sma': window_sma,\n",
    "                        'window_z': window_z,\n",
    "                        'order': order,\n",
    "                        'holding_n': holding_n,\n",
    "                }\n",
    "                for metrics, value in obj_bt.stat.items():\n",
    "                    res_dict[metrics] = value\n",
    "                minima_res_arr.append(res_dict)"
   ]
  },
  {
   "cell_type": "code",
   "execution_count": 11,
   "metadata": {},
   "outputs": [],
   "source": [
    "minima_bt = pd.DataFrame(minima_res_arr)"
   ]
  },
  {
   "cell_type": "code",
   "execution_count": null,
   "metadata": {},
   "outputs": [],
   "source": [
    "if 1==0:\n",
    "    minima_bt.to_excel('Result (Minima) 5.0.xlsx')"
   ]
  },
  {
   "cell_type": "markdown",
   "metadata": {},
   "source": [
    "## Heatmap"
   ]
  },
  {
   "cell_type": "code",
   "execution_count": null,
   "metadata": {},
   "outputs": [],
   "source": [
    "ax = sns.heatmap(minima_bt.pivot_table(index='window_sma' , columns='window_z', values='sharpe_ratio', aggfunc='mean'), cmap='RdBu')\n",
    "plt.show()"
   ]
  },
  {
   "cell_type": "code",
   "execution_count": null,
   "metadata": {},
   "outputs": [],
   "source": [
    "ax = sns.heatmap(minima_bt.pivot_table(index='order', columns='holding_n', values='sharpe_ratio', aggfunc='mean'), cmap='RdBu')\n",
    "plt.show()"
   ]
  },
  {
   "cell_type": "markdown",
   "metadata": {},
   "source": [
    "# Review"
   ]
  },
  {
   "cell_type": "code",
   "execution_count": null,
   "metadata": {},
   "outputs": [],
   "source": [
    "idx = 2073 #2073\n",
    "this_obj = minima_bt.loc[idx, 'obj_bt']"
   ]
  },
  {
   "cell_type": "code",
   "execution_count": null,
   "metadata": {},
   "outputs": [],
   "source": [
    "this_obj.plot_general(config_position={'plot':False})"
   ]
  },
  {
   "cell_type": "code",
   "execution_count": null,
   "metadata": {},
   "outputs": [],
   "source": [
    "this_obj.plot_equityCurve()"
   ]
  },
  {
   "cell_type": "code",
   "execution_count": null,
   "metadata": {},
   "outputs": [],
   "source": [
    "this_obj.plot_signal(plot_extend_position=False)"
   ]
  }
 ],
 "metadata": {
  "kernelspec": {
   "display_name": "Python 3",
   "language": "python",
   "name": "python3"
  },
  "language_info": {
   "codemirror_mode": {
    "name": "ipython",
    "version": 3
   },
   "file_extension": ".py",
   "mimetype": "text/x-python",
   "name": "python",
   "nbconvert_exporter": "python",
   "pygments_lexer": "ipython3",
   "version": "3.9.6"
  }
 },
 "nbformat": 4,
 "nbformat_minor": 2
}
