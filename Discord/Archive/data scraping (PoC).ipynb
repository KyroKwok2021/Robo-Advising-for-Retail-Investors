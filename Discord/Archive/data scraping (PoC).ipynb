{
 "cells": [
  {
   "cell_type": "code",
   "execution_count": null,
   "metadata": {},
   "outputs": [],
   "source": [
    "import requests\n",
    "from bs4 import BeautifulSoup\n",
    "import time\n",
    "import pandas as pd\n",
    "import numpy as np\n",
    "import yfinance as yf\n",
    "import matplotlib.pyplot as plt\n",
    "from tabulate import tabulate"
   ]
  },
  {
   "cell_type": "markdown",
   "metadata": {},
   "source": [
    "# COBE"
   ]
  },
  {
   "cell_type": "code",
   "execution_count": null,
   "metadata": {},
   "outputs": [],
   "source": [
    "url = 'https://cdn.cboe.com/data/us/futures/market_statistics/historical_data/VX/VX_2024-05-22.csv'\n",
    "raw_df = pd.read_csv(url)\n",
    "\n",
    "raw_df.tail()"
   ]
  },
  {
   "cell_type": "code",
   "execution_count": null,
   "metadata": {},
   "outputs": [],
   "source": [
    "vixf = pd.DataFrame({'VIXF':raw_df['Close'].to_list()}, index=pd.to_datetime(raw_df['Trade Date']))\n",
    "vix = yf.download('^VIX', start=vixf.index[0])\n",
    "spx = yf.download('^SPX', start=vixf.index[0])\n",
    "\n",
    "df = pd.concat([spx['Adj Close'].rename('SPX'),\n",
    "                vix['Adj Close'].rename('VIX'),\n",
    "                vixf['VIXF'].rename('VIXF')], axis=1)\n",
    "df = df.dropna()"
   ]
  },
  {
   "cell_type": "code",
   "execution_count": null,
   "metadata": {},
   "outputs": [],
   "source": [
    "spread = df['VIXF'] - df['VIX']\n",
    "spread.plot()"
   ]
  },
  {
   "cell_type": "code",
   "execution_count": null,
   "metadata": {},
   "outputs": [],
   "source": [
    "def smoothed_rolling_z(raw, window_sma: int, window_z: int):\n",
    "    smoothed = raw.rolling(window_sma).mean()\n",
    "    rolling_z = (smoothed - smoothed.rolling(window_z).mean()) / smoothed.rolling(window_z).std()\n",
    "    return rolling_z"
   ]
  },
  {
   "cell_type": "code",
   "execution_count": null,
   "metadata": {},
   "outputs": [],
   "source": [
    "rolling_z = smoothed_rolling_z(spread, 16, 20)\n",
    "rolling_z.tail(20)"
   ]
  },
  {
   "cell_type": "code",
   "execution_count": null,
   "metadata": {},
   "outputs": [],
   "source": [
    "from scipy.signal import argrelextrema\n",
    "def get_local_minimax(ds:pd.Series, order:int) -> pd.Series:\n",
    "    ds = pd.DataFrame(ds)\n",
    "    is_maxima_num_index = argrelextrema(ds.to_numpy(), np.greater, axis=0, order=order)[0]\n",
    "    is_minima_num_index = argrelextrema(ds.to_numpy(), np.less, axis=0, order=order)[0]\n",
    "    local_max_index_ls = []\n",
    "    local_min_index_ls = []\n",
    "    for i in is_maxima_num_index:\n",
    "        if i > order and i <len(ds) - order:\n",
    "            local_max_index_ls.append(ds.iloc[i:i+1].index)\n",
    "    for i in is_minima_num_index:\n",
    "        if i > order and i <len(ds) - order:\n",
    "            local_min_index_ls.append(ds.iloc[i:i+1].index)      \n",
    "    local_max_index_arr = np.array(local_max_index_ls).reshape(-1)\n",
    "    local_min_index_arr = np.array(local_min_index_ls).reshape(-1)\n",
    "\n",
    "    this_ds = ds.copy()\n",
    "    this_ds[f'local minimax'] = 0\n",
    "    this_ds.loc[local_max_index_arr, 'local minimax'] = -1\n",
    "    this_ds.loc[local_min_index_arr, 'local minimax'] = 1\n",
    "    return this_ds[f'local minimax']"
   ]
  },
  {
   "cell_type": "code",
   "execution_count": null,
   "metadata": {},
   "outputs": [],
   "source": [
    "plt.style.use('seaborn-v0_8-white')\n",
    "fig, ax1 = plt.subplots(figsize=(20, 8), dpi=400)\n",
    "ax2 = ax1.twinx()\n",
    "\n",
    "ax1_ds = df['SPX']\n",
    "ax1.plot(ax1_ds, label='SPX', c='black', alpha=1)\n",
    "ax1.legend(loc=2, fontsize=14)\n",
    "\n",
    "minima_ds = rolling_z\n",
    "order = 10\n",
    "for _x in minima_ds.loc[(get_local_minimax(minima_ds, order))==1].index:\n",
    "    ax2.axvline(_x, color='#83c69b', alpha=0.75)   \n",
    "for _x in minima_ds.loc[(get_local_minimax(minima_ds, order))==-1].index:\n",
    "    ax2.axvline(_x, color='#eab9d9', alpha=0.75)  \n",
    "\n",
    "ax2.plot(rolling_z, label='Spread', c='#1f77b4', alpha=0.5)\n",
    "ax2.legend(loc=1, fontsize=14)\n",
    "\n",
    "ax2.axhline(0, alpha=0.5, linestyle='--')\n",
    "ax2.axhline(1.5, alpha=0.5, linestyle='--')\n",
    "ax2.axhline(-1.5, alpha=0.5, linestyle='--')\n",
    "\n",
    "plt.title(f'SPX & VIXF-VIX Spread')\n",
    "plt.show()"
   ]
  },
  {
   "cell_type": "code",
   "execution_count": null,
   "metadata": {},
   "outputs": [],
   "source": [
    "rolling_z.tail(10)"
   ]
  },
  {
   "cell_type": "markdown",
   "metadata": {},
   "source": [
    "# Investing.hk"
   ]
  },
  {
   "cell_type": "code",
   "execution_count": null,
   "metadata": {},
   "outputs": [],
   "source": [
    "url = 'https://hk.investing.com/indices/us-spx-vix-futures-historical-data'\n",
    "headers = {'User-Agent': 'Mozilla/5.0 (Macintosh; Intel Mac OS X 10_15_7) AppleWebKit/537.36 (KHTML, like Gecko) Chrome/123.0.0.0 Safari/537.36'}\n",
    "response = requests.get(url, headers=headers)\n",
    "soup = BeautifulSoup(response.text, 'html.parser')"
   ]
  },
  {
   "cell_type": "code",
   "execution_count": null,
   "metadata": {},
   "outputs": [],
   "source": [
    "data = []\n",
    "\n",
    "tbody = soup.find_all('tbody')[1]\n",
    "for this_tbody in tbody:\n",
    "    # print('loop'+'---'*10)\n",
    "    for tr in tbody.find_all('tr'):\n",
    "        row_data = []\n",
    "        for td in tr.find_all('td'):\n",
    "            row_data.append(td.text.strip())\n",
    "        data.append(row_data)\n",
    "    break"
   ]
  },
  {
   "cell_type": "code",
   "execution_count": null,
   "metadata": {},
   "outputs": [],
   "source": [
    "df = pd.DataFrame(data, columns=['Date', 'Close', 'Open', 'High', 'Low', 'Volume', 'Change'])\n",
    "df"
   ]
  },
  {
   "cell_type": "code",
   "execution_count": null,
   "metadata": {},
   "outputs": [],
   "source": [
    "def format_data(df):\n",
    "    data = df.round(3).values.tolist()\n",
    "    headers = df.columns.tolist()\n",
    "    table = tabulate(data, headers=headers, tablefmt='grid')\n",
    "    return table"
   ]
  },
  {
   "cell_type": "code",
   "execution_count": null,
   "metadata": {},
   "outputs": [],
   "source": [
    "format_data(df)"
   ]
  },
  {
   "cell_type": "markdown",
   "metadata": {},
   "source": [
    "# Selenium"
   ]
  },
  {
   "cell_type": "code",
   "execution_count": null,
   "metadata": {},
   "outputs": [],
   "source": [
    "# from selenium import webdriver\n",
    "# from selenium.webdriver.common.by import By"
   ]
  },
  {
   "cell_type": "code",
   "execution_count": null,
   "metadata": {},
   "outputs": [],
   "source": [
    "# driver = webdriver.Chrome()  # Replace with your preferred webdriver"
   ]
  },
  {
   "cell_type": "code",
   "execution_count": null,
   "metadata": {},
   "outputs": [],
   "source": [
    "# url = 'https://hk.investing.com/indices/us-spx-vix-futures-historical-data'\n",
    "# driver.get(url)\n",
    "# button = driver.find_element(By.CLASS_NAME, 'relative flex items-center md:gap-6')\n",
    "# button.click()"
   ]
  },
  {
   "cell_type": "code",
   "execution_count": null,
   "metadata": {},
   "outputs": [],
   "source": [
    "# driver.quit()"
   ]
  },
  {
   "cell_type": "code",
   "execution_count": null,
   "metadata": {},
   "outputs": [],
   "source": [
    "expiry_date_2024 = {\n",
    "'05': '2024-05-22',\n",
    "'06': '2024-06-18',\n",
    "'07': '2024-07-17',\n",
    "'08': '2024-08-21',\n",
    "'09': '2024-09-18',\n",
    "'10': '2024-10-16',\n",
    "'11': '2024-11-20',\n",
    "'12': '2024-12-18'}"
   ]
  },
  {
   "cell_type": "code",
   "execution_count": null,
   "metadata": {},
   "outputs": [],
   "source": [
    "import datetime\n",
    "\n",
    "def get_closest_expiry_date(expiry_date_dict, current_date=None):\n",
    "    if current_date is None:\n",
    "        current_date = datetime.datetime.now().date()\n",
    "    else:\n",
    "        current_date = datetime.datetime.strptime(current_date, '%Y-%m-%d').date()\n",
    "\n",
    "    expiry_dates = sorted(expiry_date_dict.values())\n",
    "    for date in expiry_dates:\n",
    "        expiry_date = datetime.datetime.strptime(date, '%Y-%m-%d').date()\n",
    "        if expiry_date >= current_date:\n",
    "            return expiry_date\n",
    "\n",
    "    raise ValueError(\"No closest future expiry date found in the dictionary.\")"
   ]
  },
  {
   "cell_type": "code",
   "execution_count": null,
   "metadata": {},
   "outputs": [],
   "source": [
    "expiry_date_2024 = {\n",
    "    '05': '2024-05-22',\n",
    "    '06': '2024-06-18',\n",
    "    '07': '2024-07-17',\n",
    "    '08': '2024-08-21',\n",
    "    '09': '2024-09-18',\n",
    "    '10': '2024-10-16',\n",
    "    '11': '2024-11-20',\n",
    "    '12': '2024-12-18'\n",
    "}\n",
    "\n",
    "closest_date = get_closest_expiry_date(expiry_date_2024, '2024-07-20')\n",
    "print(closest_date)  # Output: '2024-05-22'"
   ]
  }
 ],
 "metadata": {
  "kernelspec": {
   "display_name": ".venv",
   "language": "python",
   "name": "python3"
  },
  "language_info": {
   "codemirror_mode": {
    "name": "ipython",
    "version": 3
   },
   "file_extension": ".py",
   "mimetype": "text/x-python",
   "name": "python",
   "nbconvert_exporter": "python",
   "pygments_lexer": "ipython3",
   "version": "3.9.6"
  }
 },
 "nbformat": 4,
 "nbformat_minor": 2
}
